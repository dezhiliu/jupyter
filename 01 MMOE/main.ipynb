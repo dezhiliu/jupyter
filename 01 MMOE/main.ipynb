{
 "cells": [
  {
   "cell_type": "code",
   "execution_count": 13,
   "id": "b60fab2e",
   "metadata": {},
   "outputs": [],
   "source": [
    "import random\n",
    "\n",
    "import pandas as pd\n",
    "import numpy as np\n",
    "import tensorflow as tf\n",
    "from tensorflow.keras import backend as K\n",
    "from tensorflow.keras.optimizers import Adam\n",
    "from tensorflow.keras.initializers import VarianceScaling\n",
    "from tensorflow.keras.layers import Input, Dense\n",
    "from tensorflow.keras.models import Model\n",
    "from tensorflow.keras.utils import to_categorical\n",
    "from tensorflow.keras.callbacks import Callback\n",
    "from sklearn.metrics import roc_auc_score\n",
    "\n",
    "from mmoe import MMoE"
   ]
  },
  {
   "cell_type": "code",
   "execution_count": 14,
   "id": "b10f20e5",
   "metadata": {},
   "outputs": [
    {
     "name": "stdout",
     "output_type": "stream",
     "text": [
      "Model: \"model_1\"\n",
      "__________________________________________________________________________________________________\n",
      "Layer (type)                    Output Shape         Param #     Connected to                     \n",
      "==================================================================================================\n",
      "input_8 (InputLayer)            [(None, 1)]          0                                            \n",
      "__________________________________________________________________________________________________\n",
      "m_mo_e_6 (MMoE)                 [(None, 4), (None, 4 96          input_8[0][0]                    \n",
      "__________________________________________________________________________________________________\n",
      "dense_6 (Dense)                 (None, 8)            40          m_mo_e_6[0][0]                   \n",
      "__________________________________________________________________________________________________\n",
      "dense_7 (Dense)                 (None, 8)            40          m_mo_e_6[0][1]                   \n",
      "__________________________________________________________________________________________________\n",
      "click (Dense)                   (None, 2)            18          dense_6[0][0]                    \n",
      "__________________________________________________________________________________________________\n",
      "deep_read (Dense)               (None, 2)            18          dense_7[0][0]                    \n",
      "==================================================================================================\n",
      "Total params: 212\n",
      "Trainable params: 212\n",
      "Non-trainable params: 0\n",
      "__________________________________________________________________________________________________\n"
     ]
    }
   ],
   "source": [
    "input_layer = Input(shape=(1,))\n",
    "\n",
    "# Set up MMoE layer\n",
    "mmoe_layers = MMoE(\n",
    "    units=4,\n",
    "    num_experts=8,\n",
    "    num_tasks=2\n",
    ")(input_layer)\n",
    "\n",
    "output_info = [(2, 'click'), (2, 'deep_read')]\n",
    "output_layers = []\n",
    "\n",
    "# Build tower layer from MMoE layer\n",
    "for index, task_layer in enumerate(mmoe_layers):\n",
    "    tower_layer = Dense(\n",
    "        units=8,\n",
    "        activation='relu',\n",
    "        kernel_initializer=VarianceScaling())(task_layer)\n",
    "    output_layer = Dense(\n",
    "        units=output_info[index][0],\n",
    "        name=output_info[index][1],\n",
    "        activation='softmax',\n",
    "        kernel_initializer=VarianceScaling())(tower_layer)\n",
    "    output_layers.append(output_layer)\n",
    "    \n",
    "model = Model(inputs=[input_layer], outputs=output_layers)\n",
    "adam_optimizer = Adam()\n",
    "model.compile(\n",
    "    loss={'click': 'binary_crossentropy', 'deep_read': 'binary_crossentropy'},\n",
    "    optimizer=adam_optimizer,\n",
    "    metrics=['accuracy']\n",
    ")\n",
    "\n",
    "# Print out model architecture summary\n",
    "model.summary()"
   ]
  },
  {
   "cell_type": "code",
   "execution_count": 15,
   "id": "459f55e2",
   "metadata": {},
   "outputs": [
    {
     "ename": "NameError",
     "evalue": "name 'ROCCallback' is not defined",
     "output_type": "error",
     "traceback": [
      "\u001b[1;31m---------------------------------------------------------------------------\u001b[0m",
      "\u001b[1;31mNameError\u001b[0m                                 Traceback (most recent call last)",
      "\u001b[1;32m<ipython-input-15-63e57ddf8c31>\u001b[0m in \u001b[0;36m<module>\u001b[1;34m\u001b[0m\n\u001b[0;32m     29\u001b[0m     \u001b[0mvalidation_data\u001b[0m\u001b[1;33m=\u001b[0m\u001b[1;33m(\u001b[0m\u001b[0mvalidation_data\u001b[0m\u001b[1;33m,\u001b[0m \u001b[0mvalidation_label\u001b[0m\u001b[1;33m)\u001b[0m\u001b[1;33m,\u001b[0m\u001b[1;33m\u001b[0m\u001b[1;33m\u001b[0m\u001b[0m\n\u001b[0;32m     30\u001b[0m     callbacks=[\n\u001b[1;32m---> 31\u001b[1;33m         ROCCallback(\n\u001b[0m\u001b[0;32m     32\u001b[0m             \u001b[0mtraining_data\u001b[0m\u001b[1;33m=\u001b[0m\u001b[1;33m(\u001b[0m\u001b[0mtrain_data\u001b[0m\u001b[1;33m,\u001b[0m \u001b[0mtrain_label\u001b[0m\u001b[1;33m)\u001b[0m\u001b[1;33m,\u001b[0m\u001b[1;33m\u001b[0m\u001b[1;33m\u001b[0m\u001b[0m\n\u001b[0;32m     33\u001b[0m             \u001b[0mvalidation_data\u001b[0m\u001b[1;33m=\u001b[0m\u001b[1;33m(\u001b[0m\u001b[0mvalidation_data\u001b[0m\u001b[1;33m,\u001b[0m \u001b[0mvalidation_label\u001b[0m\u001b[1;33m)\u001b[0m\u001b[1;33m,\u001b[0m\u001b[1;33m\u001b[0m\u001b[1;33m\u001b[0m\u001b[0m\n",
      "\u001b[1;31mNameError\u001b[0m: name 'ROCCallback' is not defined"
     ]
    }
   ],
   "source": [
    "train_data = {\n",
    "    'user_status':[0,1,2]\n",
    "}\n",
    "train_frame = pd.DataFrame(train_data)\n",
    "\n",
    "lable_data = {\n",
    "    'click':[0,1,1],\n",
    "    'deep_read':[0,0,1],\n",
    "    'deep_read':[0,0,0]\n",
    "}\n",
    "label_frame = pd.DataFrame(lable_data)\n",
    "\n",
    "validation_data = {\n",
    "    'user_status':[0,1,2]\n",
    "}\n",
    "validation_label = pd.DataFrame(train_data)\n",
    "\n",
    "lable_data = {\n",
    "    'click':[0,1,1],\n",
    "    'deep_read':[0,0,1],\n",
    "    'deep_read':[0,0,0]\n",
    "}\n",
    "label_frame = pd.DataFrame(lable_data)\n",
    "\n",
    "# Train the model\n",
    "model.fit(\n",
    "    x=train_frame,\n",
    "    y=label_frame,\n",
    "    validation_data=(validation_data, validation_label),\n",
    "    callbacks=[\n",
    "        ROCCallback(\n",
    "            training_data=(train_data, train_label),\n",
    "            validation_data=(validation_data, validation_label),\n",
    "            test_data=(test_data, test_label)\n",
    "        )\n",
    "    ],\n",
    "    epochs=1\n",
    ")"
   ]
  },
  {
   "cell_type": "code",
   "execution_count": null,
   "id": "44b679c8",
   "metadata": {},
   "outputs": [],
   "source": []
  }
 ],
 "metadata": {
  "kernelspec": {
   "display_name": "Python 3",
   "language": "python",
   "name": "python3"
  },
  "language_info": {
   "codemirror_mode": {
    "name": "ipython",
    "version": 3
   },
   "file_extension": ".py",
   "mimetype": "text/x-python",
   "name": "python",
   "nbconvert_exporter": "python",
   "pygments_lexer": "ipython3",
   "version": "3.8.8"
  }
 },
 "nbformat": 4,
 "nbformat_minor": 5
}
